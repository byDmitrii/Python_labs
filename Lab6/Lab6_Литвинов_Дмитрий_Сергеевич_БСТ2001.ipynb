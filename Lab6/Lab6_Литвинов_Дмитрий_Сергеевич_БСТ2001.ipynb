{
 "cells": [
  {
   "cell_type": "code",
   "execution_count": 16,
   "id": "4cebb3dd",
   "metadata": {},
   "outputs": [
    {
     "name": "stdout",
     "output_type": "stream",
     "text": [
      "Requirement already satisfied: networkx in c:\\anaconda\\lib\\site-packages (2.6.3)\n",
      "Requirement already satisfied: algorithmx in c:\\anaconda\\lib\\site-packages (2.0.3)\n"
     ]
    }
   ],
   "source": [
    "!pip install networkx algorithmx"
   ]
  },
  {
   "cell_type": "code",
   "execution_count": 17,
   "id": "990a14de",
   "metadata": {},
   "outputs": [],
   "source": [
    "import networkx as nx\n",
    "import algorithmx\n",
    "import json"
   ]
  },
  {
   "cell_type": "code",
   "execution_count": 18,
   "id": "73debdfb",
   "metadata": {},
   "outputs": [
    {
     "name": "stdout",
     "output_type": "stream",
     "text": [
      "[(0, 1), (0, 2), (1, 2), (1, 4), (1, 5), (2, 3), (3, 4), (3, 6), (4, 5), (4, 6), (5, 6)]\n"
     ]
    }
   ],
   "source": [
    "G = nx.DiGraph()\n",
    "\n",
    "with open('graph.json', 'r') as file:\n",
    "    data = json.load(file)\n",
    "    for row in data:\n",
    "        G.add_weighted_edges_from([(row[0], row[1], row[2])])\n",
    "\n",
    "print(G.edges)"
   ]
  },
  {
   "cell_type": "code",
   "execution_count": 19,
   "id": "616bb3f0",
   "metadata": {},
   "outputs": [
    {
     "data": {
      "application/vnd.jupyter.widget-view+json": {
       "model_id": "0dc6fe8ad50a43ecb65b59d8ec4c680a",
       "version_major": 2,
       "version_minor": 0
      },
      "text/plain": [
       "JupyterWidget(events=['{\"attrs\": {\"size\": [1000, 500]}}', '{\"attrs\": {\"edgelength\": 200}}', '{\"attrs\": {\"nodes…"
      ]
     },
     "metadata": {},
     "output_type": "display_data"
    }
   ],
   "source": [
    "canvas = algorithmx.jupyter_canvas()\n",
    "canvas.size((1000,500))\n",
    "canvas.edgelength(200)\n",
    "\n",
    "canvas.nodes(range(len(G.nodes))).add()\n",
    "canvas.edges(G.edges).add().directed(True).label().text(lambda e: G.edges[e]['weight'])\n",
    "canvas"
   ]
  },
  {
   "cell_type": "code",
   "execution_count": 20,
   "id": "022ecfc0",
   "metadata": {},
   "outputs": [
    {
     "name": "stdout",
     "output_type": "stream",
     "text": [
      "Distances: [0, 12, 7, 11, 19, 14, 23]\n",
      "Predecessors: [None, 0, 0, 2, 3, 1, 3]\n"
     ]
    }
   ],
   "source": [
    "# начальная вершина\n",
    "source = 0\n",
    "\n",
    "\n",
    "\n",
    "# расстояние от исходной вершины до остальных вершин считаются как бесконечные\n",
    "edges = list(G.edges(data=True))\n",
    "# массив вершин со всеми значениями равными бесконечности, кроме изначальной\n",
    "dist = [0 if node == source else float(\"INF\") for index, node in enumerate(G.nodes)]\n",
    "pred = [None for node in enumerate(G.nodes)]\n",
    "\n",
    "\n",
    "for i in range(len(G.nodes) - 1):\n",
    "    updated = False\n",
    "\n",
    "    for index, edge in enumerate(G.edges):\n",
    "        # задаём значение для двух вершин и веса ребра\n",
    "        u = edges[index][0]\n",
    "        v = edges[index][1]\n",
    "        weight = edges[index][2]['weight']\n",
    "\n",
    "        # если расстояние первой вершины задано как бесконечность\n",
    "        # и сумма её с весом ребра меньше, значения второй вершины\n",
    "        # обновляем значение верщины и отмечаем её как пройденную\n",
    "        if dist[u] is not float(\"INF\") and dist[u] + weight < dist[v]:\n",
    "            dist[v] = dist[u] + weight\n",
    "            pred[v] = u\n",
    "            is_updated = True\n",
    "\n",
    "    if not updated:\n",
    "        break\n",
    "\n",
    "# проверка на убываюший цикл\n",
    "for index, edge in enumerate(G.edges):\n",
    "    u = edges[index][0]\n",
    "    v = edges[index][1]\n",
    "    weight = edges[index][2]['weight']\n",
    "\n",
    "    if dist[u] is not float(\"INF\") and dist[u] + weight < dist[v]:\n",
    "        raise Exception(\"Negative-weight cycle\")\n",
    "\n",
    "print(f\"Distances: {dist}\")\n",
    "print(f\"Predecessors: {pred}\")\n"
   ]
  },
  {
   "cell_type": "code",
   "execution_count": null,
   "id": "4b870a43",
   "metadata": {},
   "outputs": [],
   "source": []
  }
 ],
 "metadata": {
  "kernelspec": {
   "display_name": "Python 3 (ipykernel)",
   "language": "python",
   "name": "python3"
  },
  "language_info": {
   "codemirror_mode": {
    "name": "ipython",
    "version": 3
   },
   "file_extension": ".py",
   "mimetype": "text/x-python",
   "name": "python",
   "nbconvert_exporter": "python",
   "pygments_lexer": "ipython3",
   "version": "3.9.7"
  }
 },
 "nbformat": 4,
 "nbformat_minor": 5
}
